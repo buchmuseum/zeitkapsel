{
 "cells": [
  {
   "cell_type": "code",
   "execution_count": 2,
   "metadata": {},
   "outputs": [],
   "source": [
    "import pandas as  pd\n",
    "import openpyxl\n",
    "import xlsxwriter\n"
   ]
  },
  {
   "cell_type": "code",
   "execution_count": 12,
   "metadata": {},
   "outputs": [
    {
     "data": {
      "text/html": [
       "<div>\n",
       "<style scoped>\n",
       "    .dataframe tbody tr th:only-of-type {\n",
       "        vertical-align: middle;\n",
       "    }\n",
       "\n",
       "    .dataframe tbody tr th {\n",
       "        vertical-align: top;\n",
       "    }\n",
       "\n",
       "    .dataframe thead th {\n",
       "        text-align: right;\n",
       "    }\n",
       "</style>\n",
       "<table border=\"1\" class=\"dataframe\">\n",
       "  <thead>\n",
       "    <tr style=\"text-align: right;\">\n",
       "      <th></th>\n",
       "      <th>verlagsname</th>\n",
       "      <th>idn</th>\n",
       "    </tr>\n",
       "  </thead>\n",
       "  <tbody>\n",
       "    <tr>\n",
       "      <th>0</th>\n",
       "      <td>A. W. Faber-Castell GmbH. und Co.</td>\n",
       "      <td>!1086620461!</td>\n",
       "    </tr>\n",
       "    <tr>\n",
       "      <th>1</th>\n",
       "      <td>adeo Verlag</td>\n",
       "      <td>!1064347673!</td>\n",
       "    </tr>\n",
       "    <tr>\n",
       "      <th>2</th>\n",
       "      <td>Adocs Verlag</td>\n",
       "      <td>!1064303129!</td>\n",
       "    </tr>\n",
       "  </tbody>\n",
       "</table>\n",
       "</div>"
      ],
      "text/plain": [
       "                         verlagsname           idn\n",
       "0  A. W. Faber-Castell GmbH. und Co.  !1086620461!\n",
       "1                        adeo Verlag  !1064347673!\n",
       "2                       Adocs Verlag  !1064303129!"
      ]
     },
     "execution_count": 12,
     "metadata": {},
     "output_type": "execute_result"
    }
   ],
   "source": [
    "df = pd.read_excel('qd-stand.xlsx')\n",
    "df.head()"
   ]
  },
  {
   "cell_type": "code",
   "execution_count": 1,
   "metadata": {},
   "outputs": [],
   "source": [
    "#erstelle mit diesen Daten einen Qd-Datensatz\n",
    "\n",
    "#erstelle eine Exceltablle mit den benötigten Spalten für die Erschließung der Materialien\n",
    "\n",
    "def pica_schreiben(row):\n",
    "\n",
    "    pica =f\"\"\"0500 Qd\n",
    "0501 Text$btxt\n",
    "0502 ohne Hilfsmittel zu benutzen$bn\n",
    "0503 Blatt$bnb\n",
    "0600 yy\n",
    "1100 2023\n",
    "1110 $a27.04.2023$b30.04.2023$n27.04.2023 - 30.04.2023$4lfz\n",
    "3100 {row.idn}\n",
    "4000 Messestand von {row.verlagsname} auf der Leipziger Buchmesse 2023 / {row.verlagsname}\n",
    "4046 Leipzig\n",
    "4700 |BSM|\n",
    "\n",
    "\\t\\n\"\"\"\n",
    "\n",
    "\n",
    "    return pica"
   ]
  },
  {
   "cell_type": "code",
   "execution_count": 5,
   "metadata": {},
   "outputs": [
    {
     "name": "stdout",
     "output_type": "stream",
     "text": [
      "0500 Qd\n",
      "0501 Text$btxt\n",
      "0502 ohne Hilfsmittel zu benutzen$bn\n",
      "0503 Blatt$bnb\n",
      "0600 yy\n",
      "1100 2023\n",
      "1110 $a27.04.2023$b30.04.2023$n27.04.2023 - 30.04.2023$4ezth\n",
      "3100 !1086620461!\n",
      "4000 Messestand des Verlages A. W. Faber-Castell GmbH. und Co. auf der Leipziger Buchmesse 2023 / A. W. Faber-Castell GmbH. und Co.\n",
      "4046 Leipzig\n",
      "4700 |BSM|\n",
      "\n",
      "\t\n",
      "\n",
      "0500 Qd\n",
      "0501 Text$btxt\n",
      "0502 ohne Hilfsmittel zu benutzen$bn\n",
      "0503 Blatt$bnb\n",
      "0600 yy\n",
      "1100 2023\n",
      "1110 $a27.04.2023$b30.04.2023$n27.04.2023 - 30.04.2023$4ezth\n",
      "3100 !1064347673!\n",
      "4000 Messestand des Verlages adeo Verlag auf der Leipziger Buchmesse 2023 / adeo Verlag\n",
      "4046 Leipzig\n",
      "4700 |BSM|\n",
      "\n",
      "\t\n",
      "\n",
      "0500 Qd\n",
      "0501 Text$btxt\n",
      "0502 ohne Hilfsmittel zu benutzen$bn\n",
      "0503 Blatt$bnb\n",
      "0600 yy\n",
      "1100 2023\n",
      "1110 $a27.04.2023$b30.04.2023$n27.04.2023 - 30.04.2023$4ezth\n",
      "3100 !1064303129!\n",
      "4000 Messestand des Verlages Adocs Verlag auf der Leipziger Buchmesse 2023 / Adocs Verlag\n",
      "4046 Leipzig\n",
      "4700 |BSM|\n",
      "\n",
      "\t\n",
      "\n"
     ]
    }
   ],
   "source": [
    "for index, row in df.iterrows():\n",
    "    print(pica_schreiben(row))"
   ]
  },
  {
   "cell_type": "code",
   "execution_count": 6,
   "metadata": {},
   "outputs": [],
   "source": [
    "with open(f\"qd_stand-recent.dat\", 'w') as f:\n",
    "    for index, row in df.iterrows():\n",
    "        f.write(pica_schreiben(row))\n",
    "        "
   ]
  },
  {
   "cell_type": "code",
   "execution_count": 11,
   "metadata": {},
   "outputs": [],
   "source": [
    "\n"
   ]
  }
 ],
 "metadata": {
  "kernelspec": {
   "display_name": "Python 3.8.10 64-bit",
   "language": "python",
   "name": "python3"
  },
  "language_info": {
   "codemirror_mode": {
    "name": "ipython",
    "version": 3
   },
   "file_extension": ".py",
   "mimetype": "text/x-python",
   "name": "python",
   "nbconvert_exporter": "python",
   "pygments_lexer": "ipython3",
   "version": "3.8.10"
  },
  "orig_nbformat": 4,
  "vscode": {
   "interpreter": {
    "hash": "31f2aee4e71d21fbe5cf8b01ff0e069b9275f58929596ceb00d14d90e3e16cd6"
   }
  }
 },
 "nbformat": 4,
 "nbformat_minor": 2
}
