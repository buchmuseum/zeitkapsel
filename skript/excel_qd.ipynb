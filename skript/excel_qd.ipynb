{
 "cells": [
  {
   "cell_type": "code",
   "execution_count": 17,
   "metadata": {},
   "outputs": [],
   "source": [
    "import pandas as pd\n",
    "import openpyxl\n",
    "import xlsxwriter\n",
    "\n",
    "rawpath = \"../raw\""
   ]
  },
  {
   "cell_type": "code",
   "execution_count": 18,
   "metadata": {},
   "outputs": [
    {
     "data": {
      "text/html": [
       "<div>\n",
       "<style scoped>\n",
       "    .dataframe tbody tr th:only-of-type {\n",
       "        vertical-align: middle;\n",
       "    }\n",
       "\n",
       "    .dataframe tbody tr th {\n",
       "        vertical-align: top;\n",
       "    }\n",
       "\n",
       "    .dataframe thead th {\n",
       "        text-align: right;\n",
       "    }\n",
       "</style>\n",
       "<table border=\"1\" class=\"dataframe\">\n",
       "  <thead>\n",
       "    <tr style=\"text-align: right;\">\n",
       "      <th></th>\n",
       "      <th>verlagsname</th>\n",
       "      <th>idn</th>\n",
       "    </tr>\n",
       "  </thead>\n",
       "  <tbody>\n",
       "    <tr>\n",
       "      <th>0</th>\n",
       "      <td>A. W. Faber-Castell GmbH. und Co.</td>\n",
       "      <td>!1086620461!</td>\n",
       "    </tr>\n",
       "    <tr>\n",
       "      <th>1</th>\n",
       "      <td>adeo Verlag</td>\n",
       "      <td>!1064347673!</td>\n",
       "    </tr>\n",
       "    <tr>\n",
       "      <th>2</th>\n",
       "      <td>Adocs Verlag</td>\n",
       "      <td>!1064303129!</td>\n",
       "    </tr>\n",
       "  </tbody>\n",
       "</table>\n",
       "</div>"
      ],
      "text/plain": [
       "                         verlagsname           idn\n",
       "0  A. W. Faber-Castell GmbH. und Co.  !1086620461!\n",
       "1                        adeo Verlag  !1064347673!\n",
       "2                       Adocs Verlag  !1064303129!"
      ]
     },
     "execution_count": 18,
     "metadata": {},
     "output_type": "execute_result"
    }
   ],
   "source": [
    "df = pd.read_excel(f\"{rawpath}/qd-stand.xlsx\")\n",
    "df.head()"
   ]
  },
  {
   "cell_type": "code",
   "execution_count": 33,
   "metadata": {},
   "outputs": [],
   "source": [
    "\n",
    "def verlag(row):\n",
    "\n",
    "    for excel in df:\n",
    "        \n",
    "        workbook = xlsxwriter.Workbook(f\"{row.verlagsname}.xlsx\")\n",
    "        worksheet = workbook.add_worksheet('Verlagsstand')\n",
    "        for worksheet in workbook.worksheets():\n",
    "            worksheet.write('A1', 'Objektgattung')\n",
    "            worksheet.data_validation('A2:A999', {'validate': 'list', 'source': ['Schreibzeug','Kleindrucksammlung','Plakat','USB','Postkarte','Noitzbuch']})\n",
    "            worksheet.write('B1', 'Genauere Objektgattung')\n",
    "            worksheet.data_validation('B2:B999', {'validate': 'list', 'source': ['Lineal !941947084!', 'Radiergummi !958214182!', 'Locher !967681847!', 'Aufkleber !041209427!', 'Flaschenöffner !975720694!']})\n",
    "            worksheet.write('C1', 'Verlagsname')\n",
    "            worksheet.write('C2:C999', (row.idn))\n",
    "        workbook.close()\n",
    "\n",
    "\n",
    "\n"
   ]
  },
  {
   "cell_type": "code",
   "execution_count": 34,
   "metadata": {},
   "outputs": [],
   "source": [
    "for index, row in df.iterrows():\n",
    "    verlag(row)"
   ]
  }
 ],
 "metadata": {
  "kernelspec": {
   "display_name": "Python 3.8.10 64-bit",
   "language": "python",
   "name": "python3"
  },
  "language_info": {
   "codemirror_mode": {
    "name": "ipython",
    "version": 3
   },
   "file_extension": ".py",
   "mimetype": "text/x-python",
   "name": "python",
   "nbconvert_exporter": "python",
   "pygments_lexer": "ipython3",
   "version": "3.8.10"
  },
  "orig_nbformat": 4,
  "vscode": {
   "interpreter": {
    "hash": "31f2aee4e71d21fbe5cf8b01ff0e069b9275f58929596ceb00d14d90e3e16cd6"
   }
  }
 },
 "nbformat": 4,
 "nbformat_minor": 2
}
