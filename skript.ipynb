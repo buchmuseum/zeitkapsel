0600 yy
0500 Qd
0501 dreidimensionale Form$btdf
0502 ohne Hilfsmittel zu benutzen$bn
0503 Gegenstand$bnr
1130 TB-sonst
1132 a1-analog;f2-3d;e2-uv
1100 2023$n[nicht nach 2023]
1500 /1ger
3100 !1086620461!
4000 Sammlung von Linealen / A. W. Faber-Castell GmbH. und Co.
4019 Schreibzeug$4obja
4019 Lineal$4obja
4046 Stein
4060 3 Lineale
5590 [Objektgattung]
5590 !041799909!
5591 [Objektgattung]
5591 !941947084!
7001 x
4800 !009033645!
6710 !!
7100 ZK - A. W. Faber-Castell GmbH. und Co. - Lineal
7109 !!DBSM/S!! ; ZK - A. W. Faber-Castell GmbH. und Co. - Schreibzeug
	

0600 yy
0500 Xa
0501 dreidimensionale Form$btdf
0502 ohne Hilfsmittel zu benutzen$bn
0503 Gegenstand$bnr
1130 TB-sonst
1132 a1-analog;f2-3d;e2-uv
1100 2023$n[nicht nach 2023]
3100 !1086620461!
4000 Kugelschreiber / A. W. Faber-Castell GmbH. und Co.
4019 Schreibzeug$4obja
4019 Kugelschreiber$4obja
4046 Stein
4060 1 Kugelschreiber
5590 [Objektgattung]
5590 !041799909!
5591 [Objektgattung]
5591 !955518245!
7001 x
4800 !009033645!
6710 !!
7100 ZK - A. W. Faber-Castell GmbH. und Co. - Kugelschreiber
7109 !!DBSM/S!! ; ZK - A. W. Faber-Castell GmbH. und Co. - Schreibzeug
	

0600 yy
0500 Qd
0501 Text$btxt
0502 ohne Hilfsmittel zu benutzen$bn
0503 Band$bnc
1130 TB-Papier
1132 a1-analog;a2-druck;f1-text;f2-blatt;f2-kodex;v-ganz
1100 2023
1500 /1ger
3100 !1086620461!
4000 Sammlung von Visitenkarten und Flayern / A. W. Faber-Castell GmbH. und Co.
4019 Kleindrucksammlung$4obja
4046 Stein
4060 5 Visitenkarten und Handzettel
7001 x
4800 !009033645!
6710 !!
7100 ZK - A. W. Faber-Castell GmbH. und Co. - Kleindrucksammlung
7109 !!DBSM/S!! ; ZK - A. W. Faber-Castell GmbH. und Co. - Kleindrucksammlung
	

0600 yy
0500 Pa
0501 unbewegtes Bild$bsti
0502 ohne Hilfsmittel zu benutzen$bn
0503 Blatt$bnb
1130 TB-Papier
1132 a1-analog;f1-bild;v-ganz
1100 2023
1500 /1ger
3100 !1086620461!
4000 Plakat "Buchmesse 2023 nicht ohne Faber" / A. W. Faber-Castell GmbH. und Co.
4019 Plakat$4obja
4046 Stein
4060 1 Plakat
5590 [Objektgattung]
5590 !04046198X!
7001 x
4800 !009033645!
6710 !!
7100 ZK - A. W. Faber-Castell GmbH. und Co. - Plakat
7109 !!DBSM/S!! ; ZK - A. W. Faber-Castell GmbH. und Co. - Plakat
	

0600 yy
0500 Sa
0501 Computerdaten$bcod
0502 Computermedien$bc
0503 Computerdisk$bcd
1130 TB-sonst
1132 ?
1100 2023
1500 /1ger
3100 !1086620461!
4000 USB Stick als Werbeartikel / A. W. Faber-Castell GmbH. und Co.
4019 USB$4obja
4046 Stein
4060 1 USB-Stick
4201 256 GB leer
5590 [Objektgattung]
5590 !97051350X!
7001 x
4800 !009033645!
6710 !!
7100 ZK - A. W. Faber-Castell GmbH. und Co. - USB
7109 !!DBSM/S!! ; ZK - A. W. Faber-Castell GmbH. und Co. - USB
	

0600 yy
0500 Xa
0501 dreidimensionale Form$btdf
0502 ohne Hilfsmittel zu benutzen$bn
0503 Gegenstand$bnr
1130 TB-sonst
1132 a1-analog;f2-3d;e2-uv
1100 2023
3100 !1086620461!
4000 Schlüsselanhänger in Form eines Herzens / A. W. Faber-Castell GmbH. und Co.
4019 Werbegeschenk$4obja
4019 Schlüsselanhänger$4obja
4046 Stein
4060 1 Schlüsselanhänger
5590 [Objektgattung]
5590 !041378113!
5591 [Objektgattung]
5591 !974747858!
7001 x
4800 !009033645!
6710 !!
7100 ZK - A. W. Faber-Castell GmbH. und Co. - Schlüsselanhänger
7109 !!DBSM/S!! ; ZK - A. W. Faber-Castell GmbH. und Co. - Werbegeschenk
	

