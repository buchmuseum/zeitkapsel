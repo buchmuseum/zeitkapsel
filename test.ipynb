{
 "cells": [
  {
   "cell_type": "code",
   "execution_count": 4,
   "metadata": {},
   "outputs": [],
   "source": [
    "import pandas as pd\n"
   ]
  },
  {
   "cell_type": "code",
   "execution_count": 5,
   "metadata": {},
   "outputs": [
    {
     "ename": "FileNotFoundError",
     "evalue": "[Errno 2] No such file or directory: 'zk.xlsx'",
     "output_type": "error",
     "traceback": [
      "\u001b[0;31m---------------------------------------------------------------------------\u001b[0m",
      "\u001b[0;31mFileNotFoundError\u001b[0m                         Traceback (most recent call last)",
      "Cell \u001b[0;32mIn [5], line 1\u001b[0m\n\u001b[0;32m----> 1\u001b[0m df \u001b[39m=\u001b[39m pd\u001b[39m.\u001b[39mread_excel(\u001b[39m\"\u001b[39m\u001b[39mzk.xlsx\u001b[39m\u001b[39m\"\u001b[39m, names\u001b[39m=\u001b[39m[\u001b[39m'\u001b[39m\u001b[39mobj1\u001b[39m\u001b[39m'\u001b[39m,\u001b[39m'\u001b[39m\u001b[39mobj2\u001b[39m\u001b[39m'\u001b[39m,\u001b[39m'\u001b[39m\u001b[39mtitel\u001b[39m\u001b[39m'\u001b[39m,\u001b[39m'\u001b[39m\u001b[39mjahrn\u001b[39m\u001b[39m'\u001b[39m,\u001b[39m'\u001b[39m\u001b[39mjahrz\u001b[39m\u001b[39m'\u001b[39m,\u001b[39m'\u001b[39m\u001b[39mdatuma\u001b[39m\u001b[39m'\u001b[39m,\u001b[39m'\u001b[39m\u001b[39mdatume\u001b[39m\u001b[39m'\u001b[39m,\u001b[39m'\u001b[39m\u001b[39msprache\u001b[39m\u001b[39m'\u001b[39m,\u001b[39m'\u001b[39m\u001b[39mland\u001b[39m\u001b[39m'\u001b[39m,\u001b[39m'\u001b[39m\u001b[39mumfang\u001b[39m\u001b[39m'\u001b[39m,\u001b[39m'\u001b[39m\u001b[39mumfangz\u001b[39m\u001b[39m'\u001b[39m,\u001b[39m'\u001b[39m\u001b[39mmaße\u001b[39m\u001b[39m'\u001b[39m,\u001b[39m'\u001b[39m\u001b[39mbemerk\u001b[39m\u001b[39m'\u001b[39m,\u001b[39m'\u001b[39m\u001b[39mverlagsn\u001b[39m\u001b[39m'\u001b[39m,\u001b[39m'\u001b[39m\u001b[39mort\u001b[39m\u001b[39m'\u001b[39m,\u001b[39m'\u001b[39m\u001b[39mverlagsidn\u001b[39m\u001b[39m'\u001b[39m,\u001b[39m'\u001b[39m\u001b[39mqdidn\u001b[39m\u001b[39m'\u001b[39m], dtype\u001b[39m=\u001b[39m\u001b[39m'\u001b[39m\u001b[39mstring\u001b[39m\u001b[39m'\u001b[39m)\n\u001b[1;32m      2\u001b[0m df \u001b[39m=\u001b[39m df\u001b[39m.\u001b[39mapply(\u001b[39mlambda\u001b[39;00m x: x\u001b[39m.\u001b[39mstr\u001b[39m.\u001b[39mstrip())\n\u001b[1;32m      3\u001b[0m df\u001b[39m.\u001b[39mhead()\n",
      "File \u001b[0;32m~/.local/lib/python3.8/site-packages/pandas/util/_decorators.py:211\u001b[0m, in \u001b[0;36mdeprecate_kwarg.<locals>._deprecate_kwarg.<locals>.wrapper\u001b[0;34m(*args, **kwargs)\u001b[0m\n\u001b[1;32m    209\u001b[0m     \u001b[39melse\u001b[39;00m:\n\u001b[1;32m    210\u001b[0m         kwargs[new_arg_name] \u001b[39m=\u001b[39m new_arg_value\n\u001b[0;32m--> 211\u001b[0m \u001b[39mreturn\u001b[39;00m func(\u001b[39m*\u001b[39;49margs, \u001b[39m*\u001b[39;49m\u001b[39m*\u001b[39;49mkwargs)\n",
      "File \u001b[0;32m~/.local/lib/python3.8/site-packages/pandas/util/_decorators.py:331\u001b[0m, in \u001b[0;36mdeprecate_nonkeyword_arguments.<locals>.decorate.<locals>.wrapper\u001b[0;34m(*args, **kwargs)\u001b[0m\n\u001b[1;32m    325\u001b[0m \u001b[39mif\u001b[39;00m \u001b[39mlen\u001b[39m(args) \u001b[39m>\u001b[39m num_allow_args:\n\u001b[1;32m    326\u001b[0m     warnings\u001b[39m.\u001b[39mwarn(\n\u001b[1;32m    327\u001b[0m         msg\u001b[39m.\u001b[39mformat(arguments\u001b[39m=\u001b[39m_format_argument_list(allow_args)),\n\u001b[1;32m    328\u001b[0m         \u001b[39mFutureWarning\u001b[39;00m,\n\u001b[1;32m    329\u001b[0m         stacklevel\u001b[39m=\u001b[39mfind_stack_level(),\n\u001b[1;32m    330\u001b[0m     )\n\u001b[0;32m--> 331\u001b[0m \u001b[39mreturn\u001b[39;00m func(\u001b[39m*\u001b[39;49margs, \u001b[39m*\u001b[39;49m\u001b[39m*\u001b[39;49mkwargs)\n",
      "File \u001b[0;32m~/.local/lib/python3.8/site-packages/pandas/io/excel/_base.py:482\u001b[0m, in \u001b[0;36mread_excel\u001b[0;34m(io, sheet_name, header, names, index_col, usecols, squeeze, dtype, engine, converters, true_values, false_values, skiprows, nrows, na_values, keep_default_na, na_filter, verbose, parse_dates, date_parser, thousands, decimal, comment, skipfooter, convert_float, mangle_dupe_cols, storage_options)\u001b[0m\n\u001b[1;32m    480\u001b[0m \u001b[39mif\u001b[39;00m \u001b[39mnot\u001b[39;00m \u001b[39misinstance\u001b[39m(io, ExcelFile):\n\u001b[1;32m    481\u001b[0m     should_close \u001b[39m=\u001b[39m \u001b[39mTrue\u001b[39;00m\n\u001b[0;32m--> 482\u001b[0m     io \u001b[39m=\u001b[39m ExcelFile(io, storage_options\u001b[39m=\u001b[39;49mstorage_options, engine\u001b[39m=\u001b[39;49mengine)\n\u001b[1;32m    483\u001b[0m \u001b[39melif\u001b[39;00m engine \u001b[39mand\u001b[39;00m engine \u001b[39m!=\u001b[39m io\u001b[39m.\u001b[39mengine:\n\u001b[1;32m    484\u001b[0m     \u001b[39mraise\u001b[39;00m \u001b[39mValueError\u001b[39;00m(\n\u001b[1;32m    485\u001b[0m         \u001b[39m\"\u001b[39m\u001b[39mEngine should not be specified when passing \u001b[39m\u001b[39m\"\u001b[39m\n\u001b[1;32m    486\u001b[0m         \u001b[39m\"\u001b[39m\u001b[39man ExcelFile - ExcelFile already has the engine set\u001b[39m\u001b[39m\"\u001b[39m\n\u001b[1;32m    487\u001b[0m     )\n",
      "File \u001b[0;32m~/.local/lib/python3.8/site-packages/pandas/io/excel/_base.py:1652\u001b[0m, in \u001b[0;36mExcelFile.__init__\u001b[0;34m(self, path_or_buffer, engine, storage_options)\u001b[0m\n\u001b[1;32m   1650\u001b[0m     ext \u001b[39m=\u001b[39m \u001b[39m\"\u001b[39m\u001b[39mxls\u001b[39m\u001b[39m\"\u001b[39m\n\u001b[1;32m   1651\u001b[0m \u001b[39melse\u001b[39;00m:\n\u001b[0;32m-> 1652\u001b[0m     ext \u001b[39m=\u001b[39m inspect_excel_format(\n\u001b[1;32m   1653\u001b[0m         content_or_path\u001b[39m=\u001b[39;49mpath_or_buffer, storage_options\u001b[39m=\u001b[39;49mstorage_options\n\u001b[1;32m   1654\u001b[0m     )\n\u001b[1;32m   1655\u001b[0m     \u001b[39mif\u001b[39;00m ext \u001b[39mis\u001b[39;00m \u001b[39mNone\u001b[39;00m:\n\u001b[1;32m   1656\u001b[0m         \u001b[39mraise\u001b[39;00m \u001b[39mValueError\u001b[39;00m(\n\u001b[1;32m   1657\u001b[0m             \u001b[39m\"\u001b[39m\u001b[39mExcel file format cannot be determined, you must specify \u001b[39m\u001b[39m\"\u001b[39m\n\u001b[1;32m   1658\u001b[0m             \u001b[39m\"\u001b[39m\u001b[39man engine manually.\u001b[39m\u001b[39m\"\u001b[39m\n\u001b[1;32m   1659\u001b[0m         )\n",
      "File \u001b[0;32m~/.local/lib/python3.8/site-packages/pandas/io/excel/_base.py:1525\u001b[0m, in \u001b[0;36minspect_excel_format\u001b[0;34m(content_or_path, storage_options)\u001b[0m\n\u001b[1;32m   1522\u001b[0m \u001b[39mif\u001b[39;00m \u001b[39misinstance\u001b[39m(content_or_path, \u001b[39mbytes\u001b[39m):\n\u001b[1;32m   1523\u001b[0m     content_or_path \u001b[39m=\u001b[39m BytesIO(content_or_path)\n\u001b[0;32m-> 1525\u001b[0m \u001b[39mwith\u001b[39;00m get_handle(\n\u001b[1;32m   1526\u001b[0m     content_or_path, \u001b[39m\"\u001b[39;49m\u001b[39mrb\u001b[39;49m\u001b[39m\"\u001b[39;49m, storage_options\u001b[39m=\u001b[39;49mstorage_options, is_text\u001b[39m=\u001b[39;49m\u001b[39mFalse\u001b[39;49;00m\n\u001b[1;32m   1527\u001b[0m ) \u001b[39mas\u001b[39;00m handle:\n\u001b[1;32m   1528\u001b[0m     stream \u001b[39m=\u001b[39m handle\u001b[39m.\u001b[39mhandle\n\u001b[1;32m   1529\u001b[0m     stream\u001b[39m.\u001b[39mseek(\u001b[39m0\u001b[39m)\n",
      "File \u001b[0;32m~/.local/lib/python3.8/site-packages/pandas/io/common.py:865\u001b[0m, in \u001b[0;36mget_handle\u001b[0;34m(path_or_buf, mode, encoding, compression, memory_map, is_text, errors, storage_options)\u001b[0m\n\u001b[1;32m    856\u001b[0m         handle \u001b[39m=\u001b[39m \u001b[39mopen\u001b[39m(\n\u001b[1;32m    857\u001b[0m             handle,\n\u001b[1;32m    858\u001b[0m             ioargs\u001b[39m.\u001b[39mmode,\n\u001b[0;32m   (...)\u001b[0m\n\u001b[1;32m    861\u001b[0m             newline\u001b[39m=\u001b[39m\u001b[39m\"\u001b[39m\u001b[39m\"\u001b[39m,\n\u001b[1;32m    862\u001b[0m         )\n\u001b[1;32m    863\u001b[0m     \u001b[39melse\u001b[39;00m:\n\u001b[1;32m    864\u001b[0m         \u001b[39m# Binary mode\u001b[39;00m\n\u001b[0;32m--> 865\u001b[0m         handle \u001b[39m=\u001b[39m \u001b[39mopen\u001b[39;49m(handle, ioargs\u001b[39m.\u001b[39;49mmode)\n\u001b[1;32m    866\u001b[0m     handles\u001b[39m.\u001b[39mappend(handle)\n\u001b[1;32m    868\u001b[0m \u001b[39m# Convert BytesIO or file objects passed with an encoding\u001b[39;00m\n",
      "\u001b[0;31mFileNotFoundError\u001b[0m: [Errno 2] No such file or directory: 'zk.xlsx'"
     ]
    }
   ],
   "source": [
    "df = pd.read_excel(\"zk.xlsx\", names=['obj1','obj2','titel','jahrn','jahrz','datuma','datume','sprache','land','umfang','umfangz','maße','bemerk','verlagsn','ort','verlagsidn','qdidn'], dtype='string')\n",
    "df = df.apply(lambda x: x.str.strip())\n",
    "df.head()"
   ]
  },
  {
   "cell_type": "code",
   "execution_count": 3,
   "metadata": {},
   "outputs": [],
   "source": [
    "def pica_schreiben(row):\n",
    "\n",
    "    pica =f\"0600 yy\\n\"\n",
    "\n",
    "    if (row.obj1 == 'Schreibzeug') and int(row.umfang) < 2:\n",
    "        pica += f\"0500 Xa\\n0501 dreidimensionale Form$btdf\\n0502 ohne Hilfsmittel zu benutzen$bn\\n0503 Gegenstand$bnr\\n1130 TB-sonst\\n1132 a1-analog;f2-3d;e2-uv\\n\"\n",
    "    if (row.obj1 == 'Schreibzeug') and int(row.umfang) > 1:\n",
    "        pica += f\"0500 Qd\\n0501 dreidimensionale Form$btdf\\n0502 ohne Hilfsmittel zu benutzen$bn\\n0503 Gegenstand$bnr\\n1130 TB-sonst\\n1132 a1-analog;f2-3d;e2-uv\\n\"\n",
    "\n",
    "    if (row.obj1 == 'Plakat') and int(row.umfang) < 2:\n",
    "        pica += f\"0500 Pa\\n0501 unbewegtes Bild$bsti\\n0502 ohne Hilfsmittel zu benutzen$bn\\n0503 Blatt$bnb\\n1130 TB-Papier\\n1132 a1-analog;f1-bild;v-ganz\\n\"\n",
    "    if (row.obj1 == 'Plakat') and int(row.umfang) > 1:\n",
    "        pica += f\"0500 Qd\\n0501 unbewegtes Bild$bsti\\n0502 ohne Hilfsmittel zu benutzen$bn\\n0503 Blatt$bnb\\n1130 TB-Papier\\n1132 a1-analog;f1-bild;v-ganz\\n\"\n",
    "\n",
    "    if (row.obj1 == 'Verlagskataloge') and int(row.umfang) < 2:\n",
    "        pica += f\"0500 Aa\\n0501 Text$btxt\\n0502 ohne Hilfsmittel zu benutzen$bn\\n0503 Band$bnc\\n1130 TB-Papier\\n1132 a1-analog;a2-druck;f1-text;f2-blatt;f2-kodex;v-ganz\\n\"\n",
    "    if (row.obj1 == 'Verlagskataloge') and int(row.umfang) > 1:\n",
    "        pica += f\"0500 Qd\\n0501 Text$btxt\\n0502 ohne Hilfsmittel zu benutzen$bn\\n0503 Band$bnc\\n1130 TB-Papier\\n1132 a1-analog;a2-druck;f1-text;f2-blatt;f2-kodex;v-ganz\\n\"\n",
    "\n",
    "    if (row.obj1 == 'USB') and int(row.umfang) < 2:\n",
    "        pica += f\"0500 Sa\\n0501 Computerdaten$bcod\\n0502 Computermedien$bc\\n0503 Computerdisk$bcd\\n1130 TB-sonst\\n1132 ?\\n\"\n",
    "    if (row.obj1 == 'USB') and int(row.umfang) > 1:\n",
    "        pica += f\"0500 Qd\\n0501 Computerdaten$bcod\\n0502 Computermedien$bc\\n0503 Computerdisk$bcd\\n1130 TB-sonst\\n1132 ?\\n\"\n",
    "\n",
    "    if (row.obj1 == 'Kleindrucksammlung') and int(row.umfang) < 2:\n",
    "        pica += f\"0500 Aa\\n0501 Text$btxt\\n0502 ohne Hilfsmittel zu benutzen$bn\\n0503 Band$bnc\\n1130 TB-Papier\\n1132 a1-analog;a2-druck;f1-text;f2-blatt;f2-kodex;v-ganz\\n\"\n",
    "    if (row.obj1 == 'Kleindrucksammlung') and int(row.umfang) > 1:\n",
    "        pica += f\"0500 Qd\\n0501 Text$btxt\\n0502 ohne Hilfsmittel zu benutzen$bn\\n0503 Band$bnc\\n1130 TB-Papier\\n1132 a1-analog;a2-druck;f1-text;f2-blatt;f2-kodex;v-ganz\\n\"\n",
    "\n",
    "    if (row.obj1 == 'Werbegeschenk') and int(row.umfang) < 2:\n",
    "         pica += f\"0500 Xa\\n0501 dreidimensionale Form$btdf\\n0502 ohne Hilfsmittel zu benutzen$bn\\n0503 Gegenstand$bnr\\n1130 TB-sonst\\n1132 a1-analog;f2-3d;e2-uv\\n\"\n",
    "    if (row.obj1 == 'Werbegeschenk') and int(row.umfang) > 1:\n",
    "        pica += f\"0500 Qd\\n0501 dreidimensionale Form$btdf\\n0502 ohne Hilfsmittel zu benutzen$bn\\n0503 Gegenstand$bnr\\n1130 TB-sonst\\n1132 a1-analog;f2-3d;e2-uv\\n\"\n",
    "\n",
    "    if pd.notna(row.jahrz):\n",
    "        pica += f\"1100 {row.jahrn}$n{row.jahrz}\\n\"\n",
    "    else:\n",
    "        pica += f\"1100 {row.jahrn}\\n\"\n",
    "\n",
    "    if pd.notna(row.sprache):\n",
    "        pica +=f\"1500 /1{row.sprache}\\n\"\n",
    "\n",
    "    pica += f\"\"\"3100 {row.verlagsidn}\n",
    "4000 {row.titel} / {row.verlagsn}\n",
    "4019 {row.obj1}$4obja\n",
    "\"\"\"\n",
    "    if pd.notna(row.obj2):\n",
    "        objektgattung2 = row.obj2.split(' ')\n",
    "        pica +=f\"4019 {objektgattung2[0]}$4obja\\n\"\n",
    "\n",
    "    pica +=f\"\"\"4046 {row.ort}\n",
    "4060 {row.umfang} {row.umfangz}\n",
    "\"\"\"\n",
    "\n",
    "    if pd.notna(row.bemerk):\n",
    "        pica +=f\"4201 {row.bemerk}\\n\"\n",
    "\n",
    "#5590\n",
    "\n",
    "    if (row.obj1 == 'Schreibzeug'):\n",
    "        pica +=f\"5590 [Objektgattung]\\n5590 !041799909!\\n\"\n",
    "\n",
    "    if (row.obj1 == 'Werbegeschenk'):\n",
    "        pica +=f\"5590 [Objektgattung]\\n5590 !041378113!\\n\"\n",
    "\n",
    "    if (row.obj1 == 'USB'):\n",
    "        pica +=f\"5590 [Objektgattung]\\n5590 !97051350X!\\n\"\n",
    "\n",
    "    if (row.obj1 == 'Plakat'):\n",
    "        pica +=f\"5590 [Objektgattung]\\n5590 !04046198X!\\n\"\n",
    "\n",
    "    if pd.notna(row.obj2):\n",
    "        objektgattung2 = row.obj2.split(' ')\n",
    "        pica +=f\"5591 [Objektgattung]\\n5591 {objektgattung2[1]}\\n\"\n",
    "\n",
    "    pica +=f\"\"\"7001 x\n",
    "4800 !009033645!\n",
    "6710 !!\n",
    "\"\"\"\n",
    "    if pd.notna(row.obj2):\n",
    "        objektgattung3 = row.obj2.split(' ')\n",
    "        pica +=f\"7100 ZK - {row.verlagsn} - {objektgattung3[0]}\\n7109 !!DBSM/S!! ; ZK - {row.verlagsn} - {objektgattung3[0]}\\n\"\n",
    "    else:\n",
    "        pica +=f\"7100 ZK - {row.verlagsn} - {row.obj1}\\n7109 !!DBSM/S!! ; ZK - {row.verlagsn} - {row.obj1}\\n\"\n",
    "    \n",
    "    pica +=\"\\t\\n\"\n",
    "\n",
    "    return pica"
   ]
  },
  {
   "cell_type": "code",
   "execution_count": null,
   "metadata": {},
   "outputs": [],
   "source": [
    "for index, row in df.iterrows():\n",
    "    print(pica_schreiben(row))"
   ]
  }
 ],
 "metadata": {
  "kernelspec": {
   "display_name": "Python 3",
   "language": "python",
   "name": "python3"
  },
  "language_info": {
   "codemirror_mode": {
    "name": "ipython",
    "version": 3
   },
   "file_extension": ".py",
   "mimetype": "text/x-python",
   "name": "python",
   "nbconvert_exporter": "python",
   "pygments_lexer": "ipython3",
   "version": "3.8.10"
  },
  "orig_nbformat": 4,
  "vscode": {
   "interpreter": {
    "hash": "31f2aee4e71d21fbe5cf8b01ff0e069b9275f58929596ceb00d14d90e3e16cd6"
   }
  }
 },
 "nbformat": 4,
 "nbformat_minor": 2
}
