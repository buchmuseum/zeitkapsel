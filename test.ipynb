{
 "cells": [
  {
   "cell_type": "code",
   "execution_count": 1,
   "metadata": {},
   "outputs": [],
   "source": [
    "import pandas as pd"
   ]
  },
  {
   "cell_type": "code",
   "execution_count": 2,
   "metadata": {},
   "outputs": [
    {
     "data": {
      "text/html": [
       "<div>\n",
       "<style scoped>\n",
       "    .dataframe tbody tr th:only-of-type {\n",
       "        vertical-align: middle;\n",
       "    }\n",
       "\n",
       "    .dataframe tbody tr th {\n",
       "        vertical-align: top;\n",
       "    }\n",
       "\n",
       "    .dataframe thead th {\n",
       "        text-align: right;\n",
       "    }\n",
       "</style>\n",
       "<table border=\"1\" class=\"dataframe\">\n",
       "  <thead>\n",
       "    <tr style=\"text-align: right;\">\n",
       "      <th></th>\n",
       "      <th>Titel</th>\n",
       "      <th>Objektart</th>\n",
       "      <th>Anzahl</th>\n",
       "    </tr>\n",
       "  </thead>\n",
       "  <tbody>\n",
       "    <tr>\n",
       "      <th>0</th>\n",
       "      <td>Lineal2</td>\n",
       "      <td>Schreibgeräte</td>\n",
       "      <td>2</td>\n",
       "    </tr>\n",
       "    <tr>\n",
       "      <th>1</th>\n",
       "      <td>Lineal1</td>\n",
       "      <td>Schreibgeräte</td>\n",
       "      <td>1</td>\n",
       "    </tr>\n",
       "    <tr>\n",
       "      <th>2</th>\n",
       "      <td>Flyer</td>\n",
       "      <td>Druckschrift</td>\n",
       "      <td>3</td>\n",
       "    </tr>\n",
       "  </tbody>\n",
       "</table>\n",
       "</div>"
      ],
      "text/plain": [
       "     Titel      Objektart  Anzahl\n",
       "0  Lineal2  Schreibgeräte       2\n",
       "1  Lineal1  Schreibgeräte       1\n",
       "2    Flyer   Druckschrift       3"
      ]
     },
     "execution_count": 2,
     "metadata": {},
     "output_type": "execute_result"
    }
   ],
   "source": [
    "df = pd.read_excel('test.xlsx')\n",
    "df.head()"
   ]
  },
  {
   "cell_type": "code",
   "execution_count": 5,
   "metadata": {},
   "outputs": [],
   "source": [
    "def pica_schreiben(row):\n",
    "\n",
    "    pica = \"\"\"0600 yy\n",
    "2105 04P\n",
    "\"\"\"\n",
    " \n",
    "    if (row.Objektart == 'Schreibgeräte') and int(row.Anzahl) < 2:\n",
    "        pica += f\"\"\"0500 Xa\n",
    "0501 dreidimensionale Form$btdf\n",
    "0502 ohne Hilfsmittel zu benutzen$bn\n",
    "0503 Gegenstand$bnr\n",
    "1132 a1-analog;f2-3d;o-org;v-ganz\n",
    "\"\"\" \n",
    "    pica += f\"4000 {row.Titel}\\n\"\n",
    "\n",
    "    return pica"
   ]
  },
  {
   "cell_type": "code",
   "execution_count": 6,
   "metadata": {},
   "outputs": [
    {
     "name": "stdout",
     "output_type": "stream",
     "text": [
      "0600 yy\n",
      "2105 04P\n",
      "4000 Lineal2\n",
      "\n",
      "0600 yy\n",
      "2105 04P\n",
      "0500 Xa\n",
      "0501 dreidimensionale Form$btdf\n",
      "0502 ohne Hilfsmittel zu benutzen$bn\n",
      "0503 Gegenstand$bnr\n",
      "1132 a1-analog;f2-3d;o-org;v-ganz\n",
      "4000 Lineal1\n",
      "\n",
      "0600 yy\n",
      "2105 04P\n",
      "4000 Flyer\n",
      "\n"
     ]
    }
   ],
   "source": [
    "for index, row in df.sample(3).iterrows():\n",
    "    print(pica_schreiben(row))"
   ]
  }
 ],
 "metadata": {
  "kernelspec": {
   "display_name": "base",
   "language": "python",
   "name": "base"
  },
  "language_info": {
   "codemirror_mode": {
    "name": "ipython",
    "version": 3
   },
   "file_extension": ".py",
   "mimetype": "text/x-python",
   "name": "python",
   "nbconvert_exporter": "python",
   "pygments_lexer": "ipython3",
   "version": "3.10.9"
  },
  "orig_nbformat": 4
 },
 "nbformat": 4,
 "nbformat_minor": 2
}
